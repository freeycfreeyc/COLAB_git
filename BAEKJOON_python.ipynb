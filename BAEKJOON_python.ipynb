{
  "nbformat": 4,
  "nbformat_minor": 0,
  "metadata": {
    "colab": {
      "provenance": [],
      "authorship_tag": "ABX9TyPj8LLhj8Hd/HSJHxAsWNUz",
      "include_colab_link": true
    },
    "kernelspec": {
      "name": "python3",
      "display_name": "Python 3"
    },
    "language_info": {
      "name": "python"
    }
  },
  "cells": [
    {
      "cell_type": "markdown",
      "metadata": {
        "id": "view-in-github",
        "colab_type": "text"
      },
      "source": [
        "<a href=\"https://colab.research.google.com/github/freeycfreeyc/COLAB_git/blob/first-gate-for-error-%2F-backup/BAEKJOON_python.ipynb\" target=\"_parent\"><img src=\"https://colab.research.google.com/assets/colab-badge.svg\" alt=\"Open In Colab\"/></a>"
      ]
    },
    {
      "cell_type": "markdown",
      "source": [
        "# BAEKJOON_python\n"
      ],
      "metadata": {
        "id": "EZdqpo8LFT3U"
      }
    },
    {
      "cell_type": "code",
      "execution_count": null,
      "metadata": {
        "colab": {
          "base_uri": "https://localhost:8080/"
        },
        "id": "i7Iql5osacE4",
        "outputId": "c876c1c7-4999-417e-9de7-942e9a65eaea"
      },
      "outputs": [
        {
          "output_type": "stream",
          "name": "stdout",
          "text": [
            "89\n",
            "B\n"
          ]
        }
      ],
      "source": [
        "#BJ_9498\n",
        "\n",
        "score = int(input())\n",
        "\n",
        "if score >= 90 :\n",
        "  print(\"A\")\n",
        "else:\n",
        "  if score >= 80 :\n",
        "    print(\"B\")\n",
        "  else:\n",
        "    if score >= 70 :\n",
        "      print(\"C\")\n",
        "    else:\n",
        "      if score >= 60 :\n",
        "        print(\"D\")\n",
        "      else:\n",
        "        print(\"F\")"
      ]
    },
    {
      "cell_type": "code",
      "source": [
        "#BJ_10817\n",
        "\n",
        "num = list(map(int,input().split()))\n",
        "\n",
        "num.sort()\n",
        "\n",
        "print(num[1])"
      ],
      "metadata": {
        "id": "5iUU2nPlGUMr",
        "colab": {
          "base_uri": "https://localhost:8080/"
        },
        "outputId": "43bf1bc1-ce15-482c-e60f-1af6df9ed19b"
      },
      "execution_count": null,
      "outputs": [
        {
          "output_type": "stream",
          "name": "stdout",
          "text": [
            "10 30 20\n",
            "20\n"
          ]
        }
      ]
    },
    {
      "cell_type": "code",
      "source": [
        "#BJ_11653\n",
        "\n",
        "\n",
        "\n",
        "def prime_factors(n):\n",
        "    factors = []\n",
        "    divisor = 2\n",
        "\n",
        "    while n > 1:\n",
        "        while n % divisor == 0:\n",
        "            factors.append(divisor)\n",
        "            n //= divisor\n",
        "        divisor += 1\n",
        "\n",
        "    return factors\n",
        "\n",
        "# 정수 N 입력 받기\n",
        "N = int(input())\n",
        "\n",
        "# 소인수분해 수행\n",
        "result = prime_factors(N)\n",
        "\n",
        "# 결과 출력\n",
        "for i in range(len(result)):\n",
        "  print(result[i])\n"
      ],
      "metadata": {
        "colab": {
          "base_uri": "https://localhost:8080/"
        },
        "id": "RpxBvWslRTfN",
        "outputId": "928285a7-48ec-423b-acae-5e6806713f4e"
      },
      "execution_count": null,
      "outputs": [
        {
          "output_type": "stream",
          "name": "stdout",
          "text": [
            "30\n",
            "2\n",
            "3\n",
            "5\n"
          ]
        }
      ]
    },
    {
      "cell_type": "code",
      "source": [
        "#BJ_1789\n",
        "\n",
        "S = int(input())\n",
        "\n",
        "N = 1\n",
        "while N * (N + 1) // 2 <= S:\n",
        "    N += 1\n",
        "\n",
        "print(N - 1)\n"
      ],
      "metadata": {
        "colab": {
          "base_uri": "https://localhost:8080/"
        },
        "id": "GKmexyehV8PP",
        "outputId": "04245ae2-d026-4f1e-db3e-ea19dcc8bbc6"
      },
      "execution_count": null,
      "outputs": [
        {
          "output_type": "stream",
          "name": "stdout",
          "text": [
            "200\n",
            "19\n"
          ]
        }
      ]
    },
    {
      "cell_type": "code",
      "source": [
        "#BJ_2753\n",
        "\n",
        "def is_leap_year(year):\n",
        "    # 연도가 4로 나누어 떨어지는지 확인\n",
        "    if year % 4 == 0:\n",
        "        # 연도가 100으로 나누어 떨어지는지 확인\n",
        "        if year % 100 == 0:\n",
        "            # 연도가 400으로 나누어 떨어지는지 확인\n",
        "            if year % 400 == 0:\n",
        "                return True  # 400으로 나누어 떨어지면 윤년\n",
        "            else:\n",
        "                return False  # 400으로 나누어 떨어지지 않으면 평년\n",
        "        else:\n",
        "            return True  # 100으로 나누어 떨어지지 않으면 윤년\n",
        "    else:\n",
        "        return False  # 4로 나누어 떨어지지 않으면 평년\n",
        "\n",
        "# 테스트\n",
        "year = int(input())\n",
        "if is_leap_year(year):\n",
        "    print(1)\n",
        "else:\n",
        "    print(0)"
      ],
      "metadata": {
        "colab": {
          "base_uri": "https://localhost:8080/"
        },
        "id": "FcCDT90GadYY",
        "outputId": "a4ad01fc-8c15-4e22-fc64-319b7fb696a1"
      },
      "execution_count": null,
      "outputs": [
        {
          "output_type": "stream",
          "name": "stdout",
          "text": [
            "2000\n",
            "1\n"
          ]
        }
      ]
    },
    {
      "cell_type": "code",
      "source": [
        "#BJ_10039\n",
        "\n",
        "list_score = []\n",
        "\n",
        "for i in range(5):\n",
        "  score = int(input())\n",
        "  if score < 40:\n",
        "    score = 40\n",
        "  list_score.append(score)\n",
        "\n",
        "avg = sum(list_score) / 5\n",
        "avg = int(avg)\n",
        "\n",
        "print(avg)"
      ],
      "metadata": {
        "colab": {
          "base_uri": "https://localhost:8080/"
        },
        "id": "ZQYokrAqbKJw",
        "outputId": "0fba3029-a0ed-4893-b88c-68ebc2f22eeb"
      },
      "execution_count": null,
      "outputs": [
        {
          "output_type": "stream",
          "name": "stdout",
          "text": [
            "10\n",
            "65\n",
            "100\n",
            "30\n",
            "95\n",
            "68\n"
          ]
        }
      ]
    },
    {
      "cell_type": "code",
      "source": [
        "#BJ_1934\n",
        "\n",
        "def gcd(a, b):\n",
        "    while b != 0:\n",
        "        a, b = b, a % b\n",
        "    return a\n",
        "\n",
        "def lcm(a, b):\n",
        "    return (a * b) // gcd(a, b)\n",
        "\n",
        "# 테스트 케이스의 개수 입력 받기\n",
        "T = int(input())\n",
        "\n",
        "list_a  = []\n",
        "\n",
        "# 테스트 케이스를 입력 받고 최소공배수 계산 후 출력\n",
        "for i in range(T):\n",
        "    A, B = map(int, input().split())\n",
        "    list_a.append(lcm(A,B))\n",
        "\n",
        "for i in range(T):\n",
        "  print(list_a[i])"
      ],
      "metadata": {
        "colab": {
          "base_uri": "https://localhost:8080/"
        },
        "id": "wocBM0_SfbS7",
        "outputId": "e177c079-b969-4a34-ef48-28a8b3c8f638"
      },
      "execution_count": null,
      "outputs": [
        {
          "output_type": "stream",
          "name": "stdout",
          "text": [
            "3\n",
            "1 4500\n",
            "6 10\n",
            "13 17\n",
            "4500\n",
            "30\n",
            "221\n"
          ]
        }
      ]
    },
    {
      "cell_type": "code",
      "source": [
        "#BJ_2480\n",
        "\n",
        "NUM = list(map(int, input().split()))\n",
        "mnc = []\n",
        "\n",
        "for i in range(1,7):\n",
        "  mnc.append(NUM.count(i))\n",
        "  if max(mnc) == 3:\n",
        "    MON = 10000 + (mnc.index(3)+1)*1000\n",
        "  else:\n",
        "    if max(mnc) == 2:\n",
        "      MON = 1000 + (mnc.index(2)+1)*100\n",
        "    else:\n",
        "      MON = max(NUM)*100\n",
        "\n",
        "print(MON)\n"
      ],
      "metadata": {
        "colab": {
          "base_uri": "https://localhost:8080/"
        },
        "id": "u81M3LWOjGIz",
        "outputId": "b3da1d46-e602-4d9d-8cc9-37b761a353df"
      },
      "execution_count": null,
      "outputs": [
        {
          "output_type": "stream",
          "name": "stdout",
          "text": [
            "6 2 5\n",
            "600\n"
          ]
        }
      ]
    },
    {
      "cell_type": "code",
      "source": [
        "#BJ_4101\n",
        "\n",
        "answer_list = []\n",
        "while True:\n",
        "  A, B = map(int, input().split())\n",
        "  if A == 0 and B == 0:\n",
        "    break\n",
        "  else:\n",
        "    if A > B:\n",
        "      answer_list.append(\"Yes\")\n",
        "    else:\n",
        "      answer_list.append(\"No\")\n",
        "\n",
        "for i in range(len(answer_list)):\n",
        "  print(answer_list[i])"
      ],
      "metadata": {
        "colab": {
          "base_uri": "https://localhost:8080/"
        },
        "id": "ghKTviIGpMl5",
        "outputId": "67f5fe10-8178-4205-c920-334d915296f1"
      },
      "execution_count": null,
      "outputs": [
        {
          "output_type": "stream",
          "name": "stdout",
          "text": [
            "1 19\n",
            "4  4\n",
            "23 14\n",
            "0 0\n",
            "No\n",
            "No\n",
            "Yes\n"
          ]
        }
      ]
    },
    {
      "cell_type": "code",
      "source": [
        "#BJ_10156\n",
        "\n",
        "\n",
        "KNM = list(map(int,input().split()))\n",
        "\n",
        "K = KNM[0]\n",
        "N = KNM[1]\n",
        "M = KNM[2]\n",
        "\n",
        "MM = K*N - M\n",
        "\n",
        "if MM <= 0:\n",
        "  MM = 0\n",
        "\n",
        "print(MM)"
      ],
      "metadata": {
        "colab": {
          "base_uri": "https://localhost:8080/"
        },
        "id": "h2ExnCDfaQFR",
        "outputId": "c8366a78-f556-4e53-f3da-dcd0aaeb66c8"
      },
      "execution_count": 1,
      "outputs": [
        {
          "output_type": "stream",
          "name": "stdout",
          "text": [
            "300 4 1000\n",
            "200\n"
          ]
        }
      ]
    },
    {
      "cell_type": "code",
      "source": [
        "#BJ_3009\n",
        "\n",
        "X = [0,0,0]\n",
        "Y = [0,0,0]\n",
        "\n",
        "for i in range(3):\n",
        "  XY = list(map(int,input().split()))\n",
        "  X[i] = XY[0]\n",
        "  Y[i] = XY[1]\n",
        "\n",
        "for i in range(3):\n",
        "  if X.count(X[i]) == 1:\n",
        "    XA = X[i]\n",
        "\n",
        "for i in range(3):\n",
        "  if Y.count(Y[i]) == 1:\n",
        "    YA = Y[i]\n",
        "\n",
        "print(XA, YA)\n"
      ],
      "metadata": {
        "colab": {
          "base_uri": "https://localhost:8080/"
        },
        "id": "4EQwA4cncKWO",
        "outputId": "e629cfc7-0fe0-4154-b8fc-ec1e0506c9e4"
      },
      "execution_count": 7,
      "outputs": [
        {
          "output_type": "stream",
          "name": "stdout",
          "text": [
            "30 20\n",
            "10 10\n",
            "10 20\n",
            "[30, 10, 10]\n",
            "[20, 10, 20]\n",
            "30 10\n"
          ]
        }
      ]
    },
    {
      "cell_type": "code",
      "source": [
        "#BJ_2476\n",
        "\n",
        "player = int(input())\n",
        "reward = []\n",
        "\n",
        "for i in range(player):\n",
        "  NUM = list(map(int, input().split()))\n",
        "  mnc = []\n",
        "\n",
        "  for i in range(1,7):\n",
        "    mnc.append(NUM.count(i))\n",
        "    if max(mnc) == 3:\n",
        "      MON = 10000 + (mnc.index(3)+1)*1000\n",
        "    else:\n",
        "      if max(mnc) == 2:\n",
        "        MON = 1000 + (mnc.index(2)+1)*100\n",
        "      else:\n",
        "        MON = max(NUM)*100\n",
        "    reward.append(MON)\n",
        "\n",
        "print(max(reward))"
      ],
      "metadata": {
        "colab": {
          "base_uri": "https://localhost:8080/"
        },
        "id": "F3P-5EYrfjYb",
        "outputId": "2716a771-d3a8-4636-f344-bd8d5f2bcab4"
      },
      "execution_count": 8,
      "outputs": [
        {
          "output_type": "stream",
          "name": "stdout",
          "text": [
            "3\n",
            "3 3 6\n",
            "2 2 2\n",
            "6 2 5\n",
            "12000\n"
          ]
        }
      ]
    },
    {
      "cell_type": "code",
      "source": [
        "#BJ_2754\n",
        "\n",
        "score_dict = {\"A+\": 4.3, \"A0\": 4.0, \"A-\": 3.7,\n",
        "              \"B+\": 3.3, \"B0\": 3.0, \"B-\": 2.7,\n",
        "              \"C+\": 2.3, \"C0\": 2.0, \"C-\": 1.7,\n",
        "              \"D+\": 1.3, \"D0\": 1.0, \"D-\": 0.7,\"F\": 0.0}\n",
        "\n",
        "score = input()\n",
        "\n",
        "print(score_dict[score])"
      ],
      "metadata": {
        "colab": {
          "base_uri": "https://localhost:8080/"
        },
        "id": "AVv9ERlAg8bC",
        "outputId": "9db210ba-d321-4c7e-dba6-1fbc32acfbf0"
      },
      "execution_count": 10,
      "outputs": [
        {
          "output_type": "stream",
          "name": "stdout",
          "text": [
            "F\n",
            "0.0\n"
          ]
        }
      ]
    },
    {
      "cell_type": "code",
      "source": [
        "#깃허브 커밋 테스트 오류"
      ],
      "metadata": {
        "id": "6gHT2v1vj7-I"
      },
      "execution_count": null,
      "outputs": []
    }
  ]
}