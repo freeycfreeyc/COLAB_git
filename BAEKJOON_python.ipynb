{
  "nbformat": 4,
  "nbformat_minor": 0,
  "metadata": {
    "colab": {
      "provenance": [],
      "toc_visible": true,
      "authorship_tag": "ABX9TyP9SWzhFSpe1t0pOD5R1JHh",
      "include_colab_link": true
    },
    "kernelspec": {
      "name": "python3",
      "display_name": "Python 3"
    },
    "language_info": {
      "name": "python"
    }
  },
  "cells": [
    {
      "cell_type": "markdown",
      "metadata": {
        "id": "view-in-github",
        "colab_type": "text"
      },
      "source": [
        "<a href=\"https://colab.research.google.com/github/freeycfreeyc/COLAB_git/blob/main/BAEKJOON_python.ipynb\" target=\"_parent\"><img src=\"https://colab.research.google.com/assets/colab-badge.svg\" alt=\"Open In Colab\"/></a>"
      ]
    },
    {
      "cell_type": "markdown",
      "source": [
        "# BAEKJOON_python\n"
      ],
      "metadata": {
        "id": "EZdqpo8LFT3U"
      }
    },
    {
      "cell_type": "code",
      "execution_count": null,
      "metadata": {
        "colab": {
          "base_uri": "https://localhost:8080/"
        },
        "id": "i7Iql5osacE4",
        "outputId": "c876c1c7-4999-417e-9de7-942e9a65eaea"
      },
      "outputs": [
        {
          "output_type": "stream",
          "name": "stdout",
          "text": [
            "89\n",
            "B\n"
          ]
        }
      ],
      "source": [
        "#BJ_9498\n",
        "\n",
        "score = int(input())\n",
        "\n",
        "if score >= 90 :\n",
        "  print(\"A\")\n",
        "else:\n",
        "  if score >= 80 :\n",
        "    print(\"B\")\n",
        "  else:\n",
        "    if score >= 70 :\n",
        "      print(\"C\")\n",
        "    else:\n",
        "      if score >= 60 :\n",
        "        print(\"D\")\n",
        "      else:\n",
        "        print(\"F\")"
      ]
    },
    {
      "cell_type": "markdown",
      "source": [
        "st new (test)"
      ],
      "metadata": {
        "id": "2nI6jof1FoZh"
      }
    }
  ]
}