{
  "nbformat": 4,
  "nbformat_minor": 0,
  "metadata": {
    "colab": {
      "provenance": [],
      "authorship_tag": "ABX9TyNrsrVWz9HcLVX/RO6KInvG",
      "include_colab_link": true
    },
    "kernelspec": {
      "name": "python3",
      "display_name": "Python 3"
    },
    "language_info": {
      "name": "python"
    }
  },
  "cells": [
    {
      "cell_type": "markdown",
      "metadata": {
        "id": "view-in-github",
        "colab_type": "text"
      },
      "source": [
        "<a href=\"https://colab.research.google.com/github/freeycfreeyc/COLAB_git/blob/main/BAEKJOON_python.ipynb\" target=\"_parent\"><img src=\"https://colab.research.google.com/assets/colab-badge.svg\" alt=\"Open In Colab\"/></a>"
      ]
    },
    {
      "cell_type": "markdown",
      "source": [
        "# BAEKJOON_python\n"
      ],
      "metadata": {
        "id": "EZdqpo8LFT3U"
      }
    },
    {
      "cell_type": "code",
      "execution_count": null,
      "metadata": {
        "colab": {
          "base_uri": "https://localhost:8080/"
        },
        "id": "i7Iql5osacE4",
        "outputId": "c876c1c7-4999-417e-9de7-942e9a65eaea"
      },
      "outputs": [
        {
          "output_type": "stream",
          "name": "stdout",
          "text": [
            "89\n",
            "B\n"
          ]
        }
      ],
      "source": [
        "#BJ_9498\n",
        "\n",
        "score = int(input())\n",
        "\n",
        "if score >= 90 :\n",
        "  print(\"A\")\n",
        "else:\n",
        "  if score >= 80 :\n",
        "    print(\"B\")\n",
        "  else:\n",
        "    if score >= 70 :\n",
        "      print(\"C\")\n",
        "    else:\n",
        "      if score >= 60 :\n",
        "        print(\"D\")\n",
        "      else:\n",
        "        print(\"F\")"
      ]
    },
    {
      "cell_type": "code",
      "source": [
        "#BJ_10817\n",
        "\n",
        "num = list(map(int,input().split()))\n",
        "\n",
        "num.sort()\n",
        "\n",
        "print(num[1])"
      ],
      "metadata": {
        "id": "5iUU2nPlGUMr",
        "colab": {
          "base_uri": "https://localhost:8080/"
        },
        "outputId": "43bf1bc1-ce15-482c-e60f-1af6df9ed19b"
      },
      "execution_count": 2,
      "outputs": [
        {
          "output_type": "stream",
          "name": "stdout",
          "text": [
            "10 30 20\n",
            "20\n"
          ]
        }
      ]
    },
    {
      "cell_type": "code",
      "source": [
        "#BJ_11653\n",
        "\n",
        "\n",
        "\n",
        "def prime_factors(n):\n",
        "    factors = []\n",
        "    divisor = 2\n",
        "\n",
        "    while n > 1:\n",
        "        while n % divisor == 0:\n",
        "            factors.append(divisor)\n",
        "            n //= divisor\n",
        "        divisor += 1\n",
        "\n",
        "    return factors\n",
        "\n",
        "# 정수 N 입력 받기\n",
        "N = int(input())\n",
        "\n",
        "# 소인수분해 수행\n",
        "result = prime_factors(N)\n",
        "\n",
        "# 결과 출력\n",
        "for i in range(len(result)):\n",
        "  print(result[i])\n"
      ],
      "metadata": {
        "colab": {
          "base_uri": "https://localhost:8080/"
        },
        "id": "RpxBvWslRTfN",
        "outputId": "928285a7-48ec-423b-acae-5e6806713f4e"
      },
      "execution_count": 7,
      "outputs": [
        {
          "output_type": "stream",
          "name": "stdout",
          "text": [
            "30\n",
            "2\n",
            "3\n",
            "5\n"
          ]
        }
      ]
    },
    {
      "cell_type": "code",
      "source": [
        "#BJ_1789\n",
        "\n",
        "S = int(input())\n",
        "\n",
        "N = 1\n",
        "while N * (N + 1) // 2 <= S:\n",
        "    N += 1\n",
        "\n",
        "print(N - 1)\n"
      ],
      "metadata": {
        "colab": {
          "base_uri": "https://localhost:8080/"
        },
        "id": "GKmexyehV8PP",
        "outputId": "04245ae2-d026-4f1e-db3e-ea19dcc8bbc6"
      },
      "execution_count": 22,
      "outputs": [
        {
          "output_type": "stream",
          "name": "stdout",
          "text": [
            "200\n",
            "19\n"
          ]
        }
      ]
    },
    {
      "cell_type": "code",
      "source": [
        "#BJ_2753\n",
        "\n",
        "def is_leap_year(year):\n",
        "    # 연도가 4로 나누어 떨어지는지 확인\n",
        "    if year % 4 == 0:\n",
        "        # 연도가 100으로 나누어 떨어지는지 확인\n",
        "        if year % 100 == 0:\n",
        "            # 연도가 400으로 나누어 떨어지는지 확인\n",
        "            if year % 400 == 0:\n",
        "                return True  # 400으로 나누어 떨어지면 윤년\n",
        "            else:\n",
        "                return False  # 400으로 나누어 떨어지지 않으면 평년\n",
        "        else:\n",
        "            return True  # 100으로 나누어 떨어지지 않으면 윤년\n",
        "    else:\n",
        "        return False  # 4로 나누어 떨어지지 않으면 평년\n",
        "\n",
        "# 테스트\n",
        "year = int(input())\n",
        "if is_leap_year(year):\n",
        "    print(1)\n",
        "else:\n",
        "    print(0)"
      ],
      "metadata": {
        "colab": {
          "base_uri": "https://localhost:8080/"
        },
        "id": "FcCDT90GadYY",
        "outputId": "a4ad01fc-8c15-4e22-fc64-319b7fb696a1"
      },
      "execution_count": 23,
      "outputs": [
        {
          "output_type": "stream",
          "name": "stdout",
          "text": [
            "2000\n",
            "1\n"
          ]
        }
      ]
    },
    {
      "cell_type": "code",
      "source": [
        "#BJ_10039\n",
        "\n",
        "list_score = []\n",
        "\n",
        "for i in range(5):\n",
        "  score = int(input())\n",
        "  if score < 40:\n",
        "    score = 40\n",
        "  list_score.append(score)\n",
        "\n",
        "avg = sum(list_score) / 5\n",
        "avg = int(avg)\n",
        "\n",
        "print(avg)"
      ],
      "metadata": {
        "colab": {
          "base_uri": "https://localhost:8080/"
        },
        "id": "ZQYokrAqbKJw",
        "outputId": "0fba3029-a0ed-4893-b88c-68ebc2f22eeb"
      },
      "execution_count": 29,
      "outputs": [
        {
          "output_type": "stream",
          "name": "stdout",
          "text": [
            "10\n",
            "65\n",
            "100\n",
            "30\n",
            "95\n",
            "68\n"
          ]
        }
      ]
    }
  ]
}