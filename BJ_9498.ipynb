{
  "nbformat": 4,
  "nbformat_minor": 0,
  "metadata": {
    "colab": {
      "provenance": [],
      "authorship_tag": "ABX9TyP3os1OCJvIrFe57YQgPMiZ",
      "include_colab_link": true
    },
    "kernelspec": {
      "name": "python3",
      "display_name": "Python 3"
    },
    "language_info": {
      "name": "python"
    }
  },
  "cells": [
    {
      "cell_type": "markdown",
      "metadata": {
        "id": "view-in-github",
        "colab_type": "text"
      },
      "source": [
        "<a href=\"https://colab.research.google.com/github/freeycfreeyc/COLAB_git/blob/main/BJ_9498.ipynb\" target=\"_parent\"><img src=\"https://colab.research.google.com/assets/colab-badge.svg\" alt=\"Open In Colab\"/></a>"
      ]
    },
    {
      "cell_type": "code",
      "execution_count": null,
      "metadata": {
        "colab": {
          "base_uri": "https://localhost:8080/"
        },
        "id": "i7Iql5osacE4",
        "outputId": "c876c1c7-4999-417e-9de7-942e9a65eaea"
      },
      "outputs": [
        {
          "output_type": "stream",
          "name": "stdout",
          "text": [
            "89\n",
            "B\n"
          ]
        }
      ],
      "source": [
        "score = int(input())\n",
        "\n",
        "if score >= 90 :\n",
        "  print(\"A\")\n",
        "else:\n",
        "  if score >= 80 :\n",
        "    print(\"B\")\n",
        "  else:\n",
        "    if score >= 70 :\n",
        "      print(\"C\")\n",
        "    else:\n",
        "      if score >= 60 :\n",
        "        print(\"D\")\n",
        "      else:\n",
        "        print(\"F\")"
      ]
    }
  ]
}