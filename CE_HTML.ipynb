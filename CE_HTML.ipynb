{
  "nbformat": 4,
  "nbformat_minor": 0,
  "metadata": {
    "colab": {
      "provenance": [],
      "authorship_tag": "ABX9TyNEi85lpmCXDsvoqQe50Baw",
      "include_colab_link": true
    },
    "kernelspec": {
      "name": "python3",
      "display_name": "Python 3"
    },
    "language_info": {
      "name": "python"
    }
  },
  "cells": [
    {
      "cell_type": "markdown",
      "metadata": {
        "id": "view-in-github",
        "colab_type": "text"
      },
      "source": [
        "<a href=\"https://colab.research.google.com/github/freeycfreeyc/COLAB_git/blob/main/CE_HTML.ipynb\" target=\"_parent\"><img src=\"https://colab.research.google.com/assets/colab-badge.svg\" alt=\"Open In Colab\"/></a>"
      ]
    },
    {
      "cell_type": "code",
      "execution_count": 9,
      "metadata": {
        "id": "3RWksM2YpO7T"
      },
      "outputs": [],
      "source": [
        "#학습전 import 필수\n",
        "\n",
        "from IPython.display import HTML"
      ]
    },
    {
      "cell_type": "code",
      "source": [
        "html_code = \"\"\"\n",
        "<!DOCTYPE html>\n",
        "<html>\n",
        "<body>\n",
        "\n",
        "<h1>IPython 디스플레이 테스트</h1>\n",
        "\n",
        "<p>이것은 IPython 디스플레이를 사용하여 노트북에 표시되는 HTML 문단입니다.</p>\n",
        "\n",
        "</body>\n",
        "</html>\n",
        "\"\"\"\n",
        "\n",
        "display(HTML(html_code))"
      ],
      "metadata": {
        "colab": {
          "base_uri": "https://localhost:8080/",
          "height": 100
        },
        "id": "6WzrAUgrqN7x",
        "outputId": "19aa195d-f529-4eef-e583-92e0cf222e4f"
      },
      "execution_count": 2,
      "outputs": [
        {
          "output_type": "display_data",
          "data": {
            "text/plain": [
              "<IPython.core.display.HTML object>"
            ],
            "text/html": [
              "\n",
              "<!DOCTYPE html>\n",
              "<html>\n",
              "<body>\n",
              "\n",
              "<h1>IPython 디스플레이 테스트</h1>\n",
              "\n",
              "<p>이것은 IPython 디스플레이를 사용하여 노트북에 표시되는 HTML 문단입니다.</p>\n",
              "\n",
              "</body>\n",
              "</html>\n"
            ]
          },
          "metadata": {}
        }
      ]
    },
    {
      "cell_type": "code",
      "source": [
        "html_code = \"\"\"\n",
        "<!DOCTYPE html>\n",
        "<html>\n",
        "<body>\n",
        "\n",
        "<h1>IPython 디스플레이 테스트</h1>\n",
        "\n",
        "<p>이것은 IPython 디스플레이를 사용하여 노트북에 표시되는 HTML 문단입니다.</p>\n",
        "\n",
        "<p><a href=\"https://www.google.com\">구글로 이동</a></p>\n",
        "\n",
        "</body>\n",
        "</html>\n",
        "\"\"\"\n",
        "\n",
        "display(HTML(html_code))"
      ],
      "metadata": {
        "colab": {
          "base_uri": "https://localhost:8080/",
          "height": 123
        },
        "id": "icYc9ZI6qZXQ",
        "outputId": "e4056949-5b5f-4bd4-b19d-c72f918d8981"
      },
      "execution_count": 4,
      "outputs": [
        {
          "output_type": "display_data",
          "data": {
            "text/plain": [
              "<IPython.core.display.HTML object>"
            ],
            "text/html": [
              "\n",
              "<!DOCTYPE html>\n",
              "<html>\n",
              "<body>\n",
              "\n",
              "<h1>IPython 디스플레이 테스트</h1>\n",
              "\n",
              "<p>이것은 IPython 디스플레이를 사용하여 노트북에 표시되는 HTML 문단입니다.</p>\n",
              "\n",
              "<p><a href=\"https://www.google.com\">구글로 이동</a></p>\n",
              "\n",
              "</body>\n",
              "</html>\n"
            ]
          },
          "metadata": {}
        }
      ]
    },
    {
      "cell_type": "code",
      "source": [
        "html_code = \"\"\"\n",
        "<!DOCTYPE html>\n",
        "<html>\n",
        "<body>\n",
        "\n",
        "<h1>피카츄 이미지 테스트</h1>\n",
        "\n",
        "<p>이것은 IPython 디스플레이를 사용하여 노트북에 표시되는 피카츄 이미지입니다.</p>\n",
        "\n",
        "<img src=\"https://static.wikia.nocookie.net/pokemon/images/7/7b/%EB%9C%A8%EC%95%84%EA%B1%B0_%EA%B3%B5%EC%8B%9D_%EC%9D%BC%EB%9F%AC%EC%8A%A4%ED%8A%B8.png/revision/latest?cb=20230113172510&path-prefix=ko\">\n",
        "\n",
        "</body>\n",
        "</html>\n",
        "\"\"\"\n",
        "\n",
        "display(HTML(html_code))"
      ],
      "metadata": {
        "colab": {
          "base_uri": "https://localhost:8080/",
          "height": 672
        },
        "id": "1BSKjst2rAI4",
        "outputId": "36c568fe-f8be-4141-ecc6-674c2cadf123"
      },
      "execution_count": 10,
      "outputs": [
        {
          "output_type": "display_data",
          "data": {
            "text/plain": [
              "<IPython.core.display.HTML object>"
            ],
            "text/html": [
              "\n",
              "<!DOCTYPE html>\n",
              "<html>\n",
              "<body>\n",
              "\n",
              "<h1>피카츄 이미지 테스트</h1>\n",
              "\n",
              "<p>이것은 IPython 디스플레이를 사용하여 노트북에 표시되는 피카츄 이미지입니다.</p>\n",
              "\n",
              "<img src=\"https://static.wikia.nocookie.net/pokemon/images/7/7b/%EB%9C%A8%EC%95%84%EA%B1%B0_%EA%B3%B5%EC%8B%9D_%EC%9D%BC%EB%9F%AC%EC%8A%A4%ED%8A%B8.png/revision/latest?cb=20230113172510&path-prefix=ko\">\n",
              "\n",
              "</body>\n",
              "</html>\n"
            ]
          },
          "metadata": {}
        }
      ]
    }
  ]
}